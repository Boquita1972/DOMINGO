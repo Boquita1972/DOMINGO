{
 "cells": [
  {
   "cell_type": "code",
   "execution_count": 18,
   "metadata": {},
   "outputs": [
    {
     "name": "stdout",
     "output_type": "stream",
     "text": [
      "hola adri gonzalez sos muy inteligente\n"
     ]
    }
   ],
   "source": [
    "#parametros de palabras claves es importante el orden\n",
    "\n",
    "def frase (nombre,apellido,adjetivo):\n",
    "    return f'hola {nombre} {apellido} sos muy {adjetivo}'\n",
    "\n",
    "resultado=frase ('adri','gonzalez','inteligente')\n",
    "print (resultado)"
   ]
  },
  {
   "cell_type": "code",
   "execution_count": 19,
   "metadata": {},
   "outputs": [
    {
     "name": "stdout",
     "output_type": "stream",
     "text": [
      "hola   adri gonzalez sos muy inteligente\n"
     ]
    }
   ],
   "source": [
    "#creando la misma funcion con un parametro opcional (adjetivo) y un valor por defecto(hermoso)\n",
    "\n",
    "def frase (nombre,apellido,adjetivo='hermoso'):  #valor por defecto  hermoso\n",
    "    return f'hola   {nombre} {apellido} sos muy {adjetivo}'\n",
    "\n",
    "resultado=frase ('adri','gonzalez','inteligente') #pero lo puedo definir aca y cambiarlo\n",
    "print (resultado)"
   ]
  }
 ],
 "metadata": {
  "kernelspec": {
   "display_name": "Python 3",
   "language": "python",
   "name": "python3"
  },
  "language_info": {
   "codemirror_mode": {
    "name": "ipython",
    "version": 3
   },
   "file_extension": ".py",
   "mimetype": "text/x-python",
   "name": "python",
   "nbconvert_exporter": "python",
   "pygments_lexer": "ipython3",
   "version": "3.9.5"
  }
 },
 "nbformat": 4,
 "nbformat_minor": 2
}
