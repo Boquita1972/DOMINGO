{
 "cells": [
  {
   "cell_type": "code",
   "execution_count": 105,
   "metadata": {},
   "outputs": [
    {
     "name": "stdout",
     "output_type": "stream",
     "text": [
      "18\n"
     ]
    }
   ],
   "source": [
    "#suma lista, no es optima\n",
    "\n",
    "def suma (lista):\n",
    "    numeros_sumados=0\n",
    "    for elementos in lista:\n",
    "        numeros_sumados= numeros_sumados+elementos\n",
    "    return numeros_sumados \n",
    "\n",
    "resultado= suma ([2,3,5,8])\n",
    "print (resultado)  "
   ]
  },
  {
   "cell_type": "code",
   "execution_count": 106,
   "metadata": {},
   "outputs": [
    {
     "name": "stdout",
     "output_type": "stream",
     "text": [
      "28\n"
     ]
    }
   ],
   "source": [
    "#utilizamos *args este parametros me toma todos los elementos como una lista \n",
    "                         \n",
    "def suma (*elementos):  \n",
    "    return sum (elementos) #retorno la suma de los elementos de la lista a *elementos  \n",
    "\n",
    "resultado =suma (4,5,6,8,4,1)\n",
    "print (resultado)"
   ]
  },
  {
   "cell_type": "code",
   "execution_count": 107,
   "metadata": {},
   "outputs": [
    {
     "name": "stdout",
     "output_type": "stream",
     "text": [
      "mi nombre es:adri y la suma de los numeros es: 28\n"
     ]
    }
   ],
   "source": [
    "def suma1 (nombre,*elementos1):  # el parametro va al final de la lista\n",
    "    return (f'mi nombre es:{nombre} y la suma de los numeros es: {sum (elementos1)}')  \n",
    "    \n",
    "resultado1 =suma1 (\"adri\",1,4,5,6,8,4)\n",
    "print (resultado1)\n",
    " "
   ]
  },
  {
   "cell_type": "code",
   "execution_count": 125,
   "metadata": {},
   "outputs": [
    {
     "name": "stdout",
     "output_type": "stream",
     "text": [
      "  la suma de los numero es: 6 y mi nombre es: adrian \n"
     ]
    }
   ],
   "source": [
    "#forma mas optima de usar el parametro args, usandolo en el retorno se pueden seguir....\n",
    "#... agregando elementos a la lista\n",
    "\n",
    "def suma2 (elementos2, nombre):\n",
    "    return (f'  la suma de los numero es: {sum ([*elementos2])} y mi nombre es:{nombre} ')\n",
    "\n",
    "resultado2=suma2 ([1,2,3],\" adrian\")\n",
    "print (resultado2)"
   ]
  }
 ],
 "metadata": {
  "kernelspec": {
   "display_name": "Python 3",
   "language": "python",
   "name": "python3"
  },
  "language_info": {
   "codemirror_mode": {
    "name": "ipython",
    "version": 3
   },
   "file_extension": ".py",
   "mimetype": "text/x-python",
   "name": "python",
   "nbconvert_exporter": "python",
   "pygments_lexer": "ipython3",
   "version": "3.9.5"
  }
 },
 "nbformat": 4,
 "nbformat_minor": 2
}
